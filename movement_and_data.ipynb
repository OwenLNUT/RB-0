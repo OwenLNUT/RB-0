{
 "cells": [
  {
   "cell_type": "code",
   "execution_count": 1,
   "metadata": {},
   "outputs": [],
   "source": [
    "import time\n",
    "from board import SCL, SDA\n",
    "from busio import I2C\n",
    "from adafruit_pca9685 import PCA9685\n",
    "from adafruit_motor import servo\n",
    "import Jetson.GPIO as GPIO\n",
    "import ipywidgets.widgets as widgets\n",
    "from IPython.display import display\n",
    "import traitlets\n",
    "from jetbot import Camera, bgr8_to_jpeg\n",
    "import os \n",
    "\n",
    "i2c_bus = I2C(SCL, SDA)\n",
    "pca = PCA9685(i2c_bus)\n",
    "pca.frequency = 50"
   ]
  },
  {
   "cell_type": "markdown",
   "metadata": {},
   "source": [
    "# Create functions and find angles where wheels are parallel (para())"
   ]
  },
  {
   "cell_type": "code",
   "execution_count": 13,
   "metadata": {},
   "outputs": [],
   "source": [
    "camera_tilt = servo.Servo(pca.channels[6], min_pulse=500, max_pulse=2600, actuation_range=180)\n",
    "camera_pan = servo.Servo(pca.channels[7], min_pulse=500, max_pulse=2600, actuation_range=180)\n",
    "camera_z = servo.Servo(pca.channels[8], min_pulse=500, max_pulse=2600, actuation_range=180)\n",
    "\n",
    "frnt_rw = servo.ContinuousServo(pca.channels[0])\n",
    "frnt_rs = servo.Servo(pca.channels[1], min_pulse=500, max_pulse=2600, actuation_range=180)\n",
    "\n",
    "mid_rw = servo.ContinuousServo(pca.channels[2])\n",
    "mid_rs = servo.Servo(pca.channels[3], min_pulse=500, max_pulse=2600, actuation_range=180)\n",
    "\n",
    "back_rw = servo.ContinuousServo(pca.channels[4])\n",
    "back_rs = servo.Servo(pca.channels[5], min_pulse=500, max_pulse=2600, actuation_range=180)\n",
    "\n",
    "back_lw = servo.ContinuousServo(pca.channels[9])\n",
    "back_ls = servo.Servo(pca.channels[10], min_pulse=500, max_pulse=2600, actuation_range=180)\n",
    "\n",
    "mid_lw = servo.ContinuousServo(pca.channels[11])\n",
    "mid_ls = servo.Servo(pca.channels[12], min_pulse=500, max_pulse=2600, actuation_range=180)\n",
    "\n",
    "frnt_lw = servo.ContinuousServo(pca.channels[13])\n",
    "frnt_ls = servo.Servo(pca.channels[14], min_pulse=500, max_pulse=2600, actuation_range=180)\n",
    "\n",
    "r_wheels = [frnt_rw, mid_rw, back_rw]\n",
    "l_wheels = [frnt_lw, mid_lw, back_lw]\n",
    "a_wheels = [frnt_lw, mid_lw, back_lw, frnt_rw, mid_rw, back_rw]\n",
    "\n",
    "    \n",
    "\n",
    "a_steer = [frnt_rs, mid_rs, back_rs, frnt_ls, mid_ls, back_ls]\n",
    "\n",
    "def para():\n",
    "    frnt_rs.angle = 85\n",
    "    mid_rs.angle = 100\n",
    "    back_rs.angle = 110\n",
    "\n",
    "    frnt_ls.angle = 75\n",
    "    mid_ls.angle = 90\n",
    "    back_ls.angle = 85\n",
    "    time.sleep(.2)                              \n"
   ]
  },
  {
   "cell_type": "code",
   "execution_count": 14,
   "metadata": {},
   "outputs": [],
   "source": [
    "camera_tilt.angle = 90\n",
    "camera_pan.angle=90\n",
    "camera_z.angle=40\n",
    "\n",
    "def go_steer_r():\n",
    "    for wheel in a_wheels:\n",
    "        wheel.throttle=0.2\n",
    "        \n",
    "    time.sleep(.2)\n",
    "    \n",
    "    for wheel in a_wheels:\n",
    "        wheel.throttle=0\n",
    "\n",
    "def go_steer_l():\n",
    "    for wheel in a_wheels:\n",
    "        wheel.throttle=-0.2\n",
    "        \n",
    "    time.sleep(.2)\n",
    "    \n",
    "    for wheel in a_wheels:\n",
    "        wheel.throttle=0\n",
    "\n",
    "\n",
    "def steer_r(change):\n",
    "    frnt_rs.angle=70\n",
    "    mid_rs.angle=100\n",
    "    back_rs.angle=125\n",
    "    \n",
    "    frnt_ls.angle=85\n",
    "    mid_ls.angle=90\n",
    "    back_ls.angle=70\n",
    "    time.sleep(.2)\n",
    "    \n",
    "    go_steer_r()\n",
    "    \n",
    "    \n",
    "def steer_l(change):\n",
    "    frnt_rs.angle=70\n",
    "    mid_rs.angle=100\n",
    "    back_rs.angle=125\n",
    "    \n",
    "    frnt_ls.angle=85\n",
    "    mid_ls.angle=90\n",
    "    back_ls.angle=70\n",
    "    \n",
    "    time.sleep(.2)\n",
    "    \n",
    "    go_steer_l()\n",
    "\n",
    "def go(change):\n",
    "    para()\n",
    "    for wheel in r_wheels:\n",
    "        wheel.throttle = -1\n",
    "    for wheel in l_wheels:\n",
    "        wheel.throttle = 1\n",
    "    time.sleep(1)\n",
    "    for wheel in a_wheels:\n",
    "        wheel.throttle=0\n",
    "        \n",
    "def backwardo(change):\n",
    "    para()\n",
    "    for wheel in r_wheels:\n",
    "        wheel.throttle = 1\n",
    "    for wheel in l_wheels:\n",
    "        wheel.throttle = -1\n",
    "    time.sleep(1)\n",
    "    for wheel in a_wheels:\n",
    "        wheel.throttle=0   \n",
    "\n",
    "def tilt_plus(change):\n",
    "    if camera_tilt.angle <= 170:\n",
    "        camera_tilt.angle +=20\n",
    "def tilt_minus(change):\n",
    "    if camera_tilt.angle >= 10:\n",
    "        camera_tilt.angle -= 10\n",
    "def pan_plus(change):\n",
    "    if camera_pan.angle <= 170:\n",
    "        camera_pan.angle += 10\n",
    "def pan_minus(change):\n",
    "    if camera_pan.angle >= 10:\n",
    "        camera_pan.angle -= 10\n",
    "def stop(change):\n",
    "    camera_pan.angle = 90\n",
    "    camera_tilt.angle = 90\n",
    "    camera_z.angle=40\n",
    "    para()\n",
    "    \n",
    "def z_plus(change):\n",
    "    if camera_z.angle <=130:\n",
    "        camera_z.angle += 10\n",
    "\n",
    "def z_minus(change):\n",
    "    if camera_z.angle >= 50:\n",
    "        camera_z.angle -= 10\n",
    "def perp_plus(change):\n",
    "    frnt_rs.angle=0\n",
    "    mid_rs.angle=10\n",
    "    back_rs.angle=20\n",
    "\n",
    "    frnt_ls.angle=160\n",
    "    mid_ls.angle=180\n",
    "    back_ls.angle=175\n",
    "    time.sleep(.2)\n",
    "    \n",
    "    for wheel in r_wheels:\n",
    "        wheel.throttle = 1\n",
    "    for wheel in l_wheels:\n",
    "        wheel.throttle = 1\n",
    "    time.sleep(1)\n",
    "    for wheel in a_wheels:\n",
    "        wheel.throttle=0\n",
    "        \n",
    "def perp_min(change):\n",
    "    frnt_rs.angle=0\n",
    "    mid_rs.angle=10\n",
    "    back_rs.angle=20\n",
    "\n",
    "    frnt_ls.angle=160\n",
    "    mid_ls.angle=180\n",
    "    back_ls.angle=175\n",
    "    time.sleep(.2)\n",
    "    \n",
    "    for wheel in r_wheels:\n",
    "        wheel.throttle = -1\n",
    "    for wheel in l_wheels:\n",
    "        wheel.throttle = -1\n",
    "    time.sleep(1)\n",
    "    for wheel in a_wheels:\n",
    "        wheel.throttle=0"
   ]
  },
  {
   "cell_type": "markdown",
   "metadata": {},
   "source": [
    "# Create control buttons then assign them functions based on (change)"
   ]
  },
  {
   "cell_type": "markdown",
   "metadata": {},
   "source": [
    "Another way to use traitlets, is by attaching functions (like ``forward``) to events.  These\n",
    "functions will get called whenever a change to the object occurs, and will be passed some information about that change\n",
    "like the ``old`` value and the ``new`` value.  \n",
    "\n",
    "Let's create and display some buttons that we'll use to control the robot."
   ]
  },
  {
   "cell_type": "code",
   "execution_count": 15,
   "metadata": {},
   "outputs": [
    {
     "data": {
      "application/vnd.jupyter.widget-view+json": {
       "model_id": "bd8674327d3c42508bd565e1d1a5b04b",
       "version_major": 2,
       "version_minor": 0
      },
      "text/plain": [
       "VBox(children=(Button(description='z-up', layout=Layout(align_self='center', height='60px', width='80px'), sty…"
      ]
     },
     "metadata": {},
     "output_type": "display_data"
    },
    {
     "data": {
      "application/vnd.jupyter.widget-view+json": {
       "model_id": "2661fb1c3ad449d6ae994747591f1ae6",
       "version_major": 2,
       "version_minor": 0
      },
      "text/plain": [
       "Button(button_style='success', description='forward', layout=Layout(align_self='center', height='60px', width=…"
      ]
     },
     "metadata": {},
     "output_type": "display_data"
    },
    {
     "data": {
      "application/vnd.jupyter.widget-view+json": {
       "model_id": "c79584f0377c4f6bba5304efa5fbaf13",
       "version_major": 2,
       "version_minor": 0
      },
      "text/plain": [
       "Button(button_style='success', description='backward', layout=Layout(align_self='center', height='60px', width…"
      ]
     },
     "metadata": {},
     "output_type": "display_data"
    }
   ],
   "source": [
    "# create buttons\n",
    "button_layout = widgets.Layout(width='80px', height='60px', align_self='center')\n",
    "stop_button = widgets.Button(description='90', button_style='danger', layout=button_layout)\n",
    "forward_button = widgets.Button(description='tilt+', layout=button_layout)\n",
    "backward_button = widgets.Button(description='tilt-', layout=button_layout)\n",
    "left_button = widgets.Button(description='pan-', layout=button_layout)\n",
    "right_button = widgets.Button(description='pan+', layout=button_layout)\n",
    "another_right = widgets.Button(description='right', button_style='success', layout=button_layout)\n",
    "another_left = widgets.Button(description='left', button_style='success', layout=button_layout)\n",
    "another_top = widgets.Button(description='forward', button_style='success', layout=button_layout)\n",
    "another_bottom = widgets.Button(description='backward', button_style='success', layout=button_layout)\n",
    "lateral_right = widgets.Button(description='lat+', button_style='success', layout=button_layout)\n",
    "lateral_left = widgets.Button(description='lat-', button_style='success', layout=button_layout)\n",
    "z_up = widgets.Button(description='z-up', layout=button_layout)\n",
    "z_dwn = widgets.Button(description='z-dwn', layout=button_layout)\n",
    "\n",
    "# display buttons\n",
    "middle_box = widgets.HBox([left_button, stop_button, right_button], layout=widgets.Layout(align_self='center'))\n",
    "top_box = widgets.HBox([another_left, forward_button, another_right], layout=widgets.Layout(align_self='center'))\n",
    "bottom_box = widgets.HBox([lateral_left, backward_button, lateral_right], layout=widgets.Layout(align_self='center'))\n",
    "controls_box = widgets.VBox([z_up, top_box, middle_box, bottom_box, z_dwn])\n",
    "display(controls_box, another_top, another_bottom)"
   ]
  },
  {
   "cell_type": "markdown",
   "metadata": {},
   "source": [
    "You should see a set of robot controls displayed above!  But right now they wont do anything.  To do that\n",
    "we'll need to create some functions that we'll attach to the button's ``on_click`` event.  "
   ]
  },
  {
   "cell_type": "markdown",
   "metadata": {},
   "source": [
    "Now that we've defined the functions, let's attach them to the on-click events of each button"
   ]
  },
  {
   "cell_type": "code",
   "execution_count": 16,
   "metadata": {},
   "outputs": [],
   "source": [
    "# link buttons to actions\n",
    "stop_button.on_click(stop)\n",
    "forward_button.on_click(tilt_minus)\n",
    "backward_button.on_click(tilt_plus)\n",
    "left_button.on_click(pan_plus)\n",
    "right_button.on_click(pan_minus)\n",
    "another_top.on_click(go)\n",
    "another_bottom.on_click(backwardo)\n",
    "lateral_right.on_click(perp_plus)\n",
    "lateral_left.on_click(perp_min)\n",
    "another_right.on_click(steer_r)\n",
    "another_left.on_click(steer_l)\n",
    "z_up.on_click(z_plus)\n",
    "z_dwn.on_click(z_minus)\n",
    "#z_up.on_click()\n"
   ]
  },
  {
   "cell_type": "markdown",
   "metadata": {},
   "source": [
    "Now when you click each button, you should see the robot move!"
   ]
  },
  {
   "cell_type": "markdown",
   "metadata": {},
   "source": [
    "# Data collection for training the model"
   ]
  },
  {
   "cell_type": "code",
   "execution_count": 6,
   "metadata": {},
   "outputs": [
    {
     "name": "stdout",
     "output_type": "stream",
     "text": [
      "Directories not created becasue they already exist\n"
     ]
    }
   ],
   "source": [
    "blocked_dir = 'dataset/blocked'\n",
    "free_dir = 'dataset/free'\n",
    "\n",
    "# we have this \"try/except\" statement because these next functions can throw an error if the directories exist already\n",
    "try:\n",
    "    os.makedirs(free_dir)\n",
    "    os.makedirs(blocked_dir)\n",
    "except FileExistsError:\n",
    "    print('Directories not created becasue they already exist')"
   ]
  },
  {
   "cell_type": "markdown",
   "metadata": {},
   "source": [
    "Camera & button widges"
   ]
  },
  {
   "cell_type": "code",
   "execution_count": 17,
   "metadata": {},
   "outputs": [
    {
     "data": {
      "application/vnd.jupyter.widget-view+json": {
       "model_id": "79799f913d854694b4b6d536b591b361",
       "version_major": 2,
       "version_minor": 0
      },
      "text/plain": [
       "HBox(children=(IntText(value=110, layout=Layout(height='64px', width='128px')), Button(button_style='success',…"
      ]
     },
     "metadata": {},
     "output_type": "display_data"
    },
    {
     "data": {
      "application/vnd.jupyter.widget-view+json": {
       "model_id": "d19cb021460843dba98b687d51b0f1fc",
       "version_major": 2,
       "version_minor": 0
      },
      "text/plain": [
       "HBox(children=(IntText(value=102, layout=Layout(height='64px', width='128px')), Button(button_style='danger', …"
      ]
     },
     "metadata": {},
     "output_type": "display_data"
    },
    {
     "data": {
      "application/vnd.jupyter.widget-view+json": {
       "model_id": "3aa63ce34cdb4990afff14f7821b2ade",
       "version_major": 2,
       "version_minor": 0
      },
      "text/plain": [
       "Image(value=b'\\xff\\xd8\\xff\\xe0\\x00\\x10JFIF\\x00\\x01\\x01\\x00\\x00\\x01\\x00\\x01\\x00\\x00\\xff\\xdb\\x00C\\x00\\x02\\x01\\x0…"
      ]
     },
     "metadata": {},
     "output_type": "display_data"
    }
   ],
   "source": [
    "camera = Camera.instance(width=224, height=224)\n",
    "\n",
    "image = widgets.Image(format='jpeg', width=400, height=400)  # this width and height doesn't necessarily have to match the camera\n",
    "\n",
    "camera_link = traitlets.dlink((camera, 'value'), (image, 'value'), transform=bgr8_to_jpeg)\n",
    "\n",
    "button_layout = widgets.Layout(width='128px', height='64px')\n",
    "free_button = widgets.Button(description='add free', button_style='success', layout=button_layout)\n",
    "blocked_button = widgets.Button(description='add blocked', button_style='danger', layout=button_layout)\n",
    "free_count = widgets.IntText(layout=button_layout, value=len(os.listdir(free_dir)))\n",
    "blocked_count = widgets.IntText(layout=button_layout, value=len(os.listdir(blocked_dir)))\n",
    "\n",
    "display(widgets.HBox([free_count, free_button]))\n",
    "display(widgets.HBox([blocked_count, blocked_button]))\n",
    "display(image)"
   ]
  },
  {
   "cell_type": "code",
   "execution_count": 8,
   "metadata": {},
   "outputs": [],
   "source": [
    "from uuid import uuid1\n",
    "\n",
    "def save_snapshot(directory):\n",
    "    image_path = os.path.join(directory, str(uuid1()) + '.jpg')\n",
    "    with open(image_path, 'wb') as f:\n",
    "        f.write(image.value)\n",
    "\n",
    "def save_free():\n",
    "    global free_dir, free_count\n",
    "    save_snapshot(free_dir)\n",
    "    free_count.value = len(os.listdir(free_dir))\n",
    "    \n",
    "def save_blocked():\n",
    "    global blocked_dir, blocked_count\n",
    "    save_snapshot(blocked_dir)\n",
    "    blocked_count.value = len(os.listdir(blocked_dir))\n",
    "    \n",
    "# attach the callbacks, we use a 'lambda' function to ignore the\n",
    "# parameter that the on_click event would provide to our function\n",
    "# because we don't need it.\n",
    "free_button.on_click(lambda x: save_free())\n",
    "blocked_button.on_click(lambda x: save_blocked())"
   ]
  },
  {
   "cell_type": "markdown",
   "metadata": {},
   "source": [
    "## Next\n",
    "\n",
    "Once you've collected enough data, we'll need to copy that data to our GPU desktop or cloud machine for training.  First, we can call the following *terminal* command to compress\n",
    "our dataset folder into a single *zip* file.\n",
    "\n",
    "> The ! prefix indicates that we want to run the cell as a *shell* (or *terminal*) command.\n",
    "\n",
    "> The -r flag in the zip command below indicates *recursive* so that we include all nested files, the -q flag indicates *quiet* so that the zip command doesn't print any output"
   ]
  },
  {
   "cell_type": "code",
   "execution_count": 11,
   "metadata": {},
   "outputs": [],
   "source": [
    "!zip -r -q dataset.zip dataset"
   ]
  },
  {
   "cell_type": "markdown",
   "metadata": {},
   "source": [
    "You should see a file named ``dataset.zip`` in the Jupyter Lab file browser.  You should download the zip file using the Jupyter Lab file browser by right clicking and selecting ``Download``.\n",
    "\n",
    "Next, we'll need to upload this data to our GPU desktop or cloud machine (we refer to this as the *host*) to train the collision avoidance neural network.  We'll assume that you've set up your training\n",
    "machine as described in the JetBot WiKi.  If you have, you can navigate to ``http://<host_ip_address>:8888`` to open up the Jupyter Lab environment running on the host.  The notebook you'll need to open there is called ``collision_avoidance/train_model.ipynb``.\n",
    "\n",
    "So head on over to your training machine and follow the instructions there!  Once your model is trained, we'll return to the robot Jupyter Lab enivornment to use the model for a live demo!"
   ]
  }
 ],
 "metadata": {
  "kernelspec": {
   "display_name": "Python 3",
   "language": "python",
   "name": "python3"
  },
  "language_info": {
   "codemirror_mode": {
    "name": "ipython",
    "version": 3
   },
   "file_extension": ".py",
   "mimetype": "text/x-python",
   "name": "python",
   "nbconvert_exporter": "python",
   "pygments_lexer": "ipython3",
   "version": "3.6.8"
  }
 },
 "nbformat": 4,
 "nbformat_minor": 2
}
